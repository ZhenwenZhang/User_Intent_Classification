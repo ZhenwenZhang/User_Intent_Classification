{
 "cells": [
  {
   "cell_type": "code",
   "execution_count": 1,
   "metadata": {
    "ExecuteTime": {
     "end_time": "2019-01-12T01:48:18.872336Z",
     "start_time": "2019-01-12T01:48:18.799067Z"
    }
   },
   "outputs": [
    {
     "name": "stdout",
     "output_type": "stream",
     "text": [
      "app 0\n",
      "bus 1\n",
      "calc 2\n",
      "chat 3\n",
      "cinemas 4\n",
      "contacts 5\n",
      "cookbook 6\n",
      "datetime 7\n",
      "email 8\n",
      "epg 9\n",
      "flight 10\n",
      "health 11\n",
      "lottery 12\n",
      "map 13\n",
      "match 14\n",
      "message 15\n",
      "music 16\n",
      "news 17\n",
      "novel 18\n",
      "poetry 19\n",
      "radio 20\n",
      "riddle 21\n",
      "schedule 22\n",
      "stock 23\n",
      "telephone 24\n",
      "train 25\n",
      "translation 26\n",
      "tvchannel 27\n",
      "video 28\n",
      "weather 29\n",
      "website 30\n",
      "app 0\n",
      "bus 1\n",
      "calc 2\n",
      "chat 3\n",
      "cinemas 4\n",
      "contacts 5\n",
      "cookbook 6\n",
      "datetime 7\n",
      "email 8\n",
      "epg 9\n",
      "flight 10\n",
      "health 11\n",
      "lottery 12\n",
      "map 13\n",
      "match 14\n",
      "message 15\n",
      "music 16\n",
      "news 17\n",
      "novel 18\n",
      "poetry 19\n",
      "radio 20\n",
      "riddle 21\n",
      "schedule 22\n",
      "stock 23\n",
      "telephone 24\n",
      "train 25\n",
      "translation 26\n",
      "tvchannel 27\n",
      "video 28\n",
      "weather 29\n",
      "website 30\n",
      "app 0\n",
      "bus 1\n",
      "calc 2\n",
      "chat 3\n",
      "cinemas 4\n",
      "contacts 5\n",
      "cookbook 6\n",
      "datetime 7\n",
      "email 8\n",
      "epg 9\n",
      "flight 10\n",
      "health 11\n",
      "lottery 12\n",
      "map 13\n",
      "match 14\n",
      "message 15\n",
      "music 16\n",
      "news 17\n",
      "novel 18\n",
      "poetry 19\n",
      "radio 20\n",
      "riddle 21\n",
      "schedule 22\n",
      "stock 23\n",
      "telephone 24\n",
      "train 25\n",
      "translation 26\n",
      "tvchannel 27\n",
      "video 28\n",
      "weather 29\n",
      "website 30\n"
     ]
    }
   ],
   "source": [
    "import os\n",
    "\n",
    "for dir_name in ['train', 'develop', 'test']:\n",
    "    with open('../data/' + dir_name + '.txt', 'w', encoding='utf-8') as output:\n",
    "        filename_list = os.listdir('../data/' + dir_name)\n",
    "        filename_list.sort()\n",
    "        for index, filename in enumerate(filename_list):\n",
    "            label = filename.split('_')[1].split('.')[0]\n",
    "            print(label,index)\n",
    "            line = [\n",
    "                label + '\\t' + line\n",
    "                for line in open('../data/' + dir_name + '/' +\n",
    "                                 filename).readlines()\n",
    "            ]\n",
    "            output.writelines(line)"
   ]
  }
 ],
 "metadata": {
  "kernelspec": {
   "display_name": "ZhenWen-Py3",
   "language": "python",
   "name": "zhenwen_py3"
  },
  "language_info": {
   "codemirror_mode": {
    "name": "ipython",
    "version": 3
   },
   "file_extension": ".py",
   "mimetype": "text/x-python",
   "name": "python",
   "nbconvert_exporter": "python",
   "pygments_lexer": "ipython3",
   "version": "3.6.7"
  },
  "toc": {
   "base_numbering": 1,
   "nav_menu": {},
   "number_sections": true,
   "sideBar": true,
   "skip_h1_title": false,
   "title_cell": "Table of Contents",
   "title_sidebar": "Contents",
   "toc_cell": false,
   "toc_position": {},
   "toc_section_display": true,
   "toc_window_display": false
  },
  "varInspector": {
   "cols": {
    "lenName": 16,
    "lenType": 16,
    "lenVar": 40
   },
   "kernels_config": {
    "python": {
     "delete_cmd_postfix": "",
     "delete_cmd_prefix": "del ",
     "library": "var_list.py",
     "varRefreshCmd": "print(var_dic_list())"
    },
    "r": {
     "delete_cmd_postfix": ") ",
     "delete_cmd_prefix": "rm(",
     "library": "var_list.r",
     "varRefreshCmd": "cat(var_dic_list()) "
    }
   },
   "types_to_exclude": [
    "module",
    "function",
    "builtin_function_or_method",
    "instance",
    "_Feature"
   ],
   "window_display": false
  }
 },
 "nbformat": 4,
 "nbformat_minor": 2
}
