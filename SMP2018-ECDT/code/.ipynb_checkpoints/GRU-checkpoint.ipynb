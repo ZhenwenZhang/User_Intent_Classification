{
 "cells": [
  {
   "cell_type": "markdown",
   "metadata": {
    "heading_collapsed": true
   },
   "source": [
    "### Import Packages"
   ]
  },
  {
   "cell_type": "code",
   "execution_count": 1,
   "metadata": {
    "ExecuteTime": {
     "end_time": "2019-01-16T08:47:14.717765Z",
     "start_time": "2019-01-16T08:47:13.321116Z"
    },
    "hidden": true
   },
   "outputs": [],
   "source": [
    "import os\n",
    "import time\n",
    "import jieba as jb\n",
    "import numpy as np\n",
    "import tensorflow as tf\n",
    "from sklearn import metrics\n",
    "from tensorboard import summary as summary_lib\n",
    "\n",
    "os.environ['CUDA_VISIBLE_DEVICES'] = '3'\n",
    "tf.logging.set_verbosity(tf.logging.INFO)\n",
    "\n",
    "gpuconfig = tf.ConfigProto(log_device_placement=True)\n",
    "gpuconfig.gpu_options.allow_growth = True\n",
    "\n",
    "estimator_config = tf.estimator.RunConfig(\n",
    "    model_dir='/home/zhangzw/logs/SMP2018/GRU',\n",
    "    save_summary_steps=100,\n",
    "    session_config=gpuconfig)\n",
    "\n",
    "base_dir = '/home/zhangzw/SMP2018-ECDT/'\n",
    "category_file = os.path.join(base_dir, 'data/category.txt')\n",
    "train_file = os.path.join(base_dir, 'data/train.txt')\n",
    "develop_file = os.path.join(base_dir, 'data/develop.txt')\n",
    "test_file = os.path.join(base_dir, 'data/test.txt')"
   ]
  },
  {
   "cell_type": "markdown",
   "metadata": {
    "heading_collapsed": true
   },
   "source": [
    "### Read DataSet"
   ]
  },
  {
   "cell_type": "code",
   "execution_count": 2,
   "metadata": {
    "ExecuteTime": {
     "end_time": "2019-01-16T08:47:16.634991Z",
     "start_time": "2019-01-16T08:47:14.720111Z"
    },
    "hidden": true
   },
   "outputs": [
    {
     "name": "stderr",
     "output_type": "stream",
     "text": [
      "Building prefix dict from the default dictionary ...\n",
      "Loading model from cache /tmp/jieba.cache\n",
      "Loading model cost 0.705 seconds.\n"
     ]
    },
    {
     "name": "stdout",
     "output_type": "stream",
     "text": [
      "INFO:Read data from file.\n"
     ]
    },
    {
     "name": "stderr",
     "output_type": "stream",
     "text": [
      "Prefix dict has been built succesfully.\n"
     ]
    },
    {
     "name": "stdout",
     "output_type": "stream",
     "text": [
      "INFO:Building vocabulary from train set.\n",
      "INFO:Compute the maximum length of sentence.\n",
      "INFO:Convert words to id represent.\n",
      "INFO:Padding sentences.\n",
      "INFO:Maximum  length of sentence is 26.\n",
      "INFO:Vocabulary size is 2889.\n",
      "INFO:train set shape is (2299, 26).\n",
      "INFO:develop set shape is (770, 26).\n",
      "INFO:test set shape is (666, 26).\n"
     ]
    }
   ],
   "source": [
    "class SMPDATASET(object):\n",
    "    def __init__(self, filenames, category_file):\n",
    "        self.__filenames = filenames\n",
    "        self.__category_file = category_file\n",
    "        self.vocab_size = 0\n",
    "        self.seq_max_len = 0\n",
    "        self.word_index = {}\n",
    "\n",
    "    def __read_category(self):\n",
    "        category_table = {}\n",
    "        for line in open(self.__category_file).readlines():\n",
    "            category = line.strip().split(':')[0]\n",
    "            label = line.strip().split(':')[1]\n",
    "            category_table[category] = label\n",
    "        return category_table\n",
    "\n",
    "    def __read_data(self):\n",
    "        dataset = {}\n",
    "        labels = ['train', 'develop', 'test']\n",
    "        for filename, label in zip(self.__filenames, labels):\n",
    "            data = [\n",
    "                line.strip().split(\"\\t\")\n",
    "                for line in open(filename).readlines()\n",
    "            ]\n",
    "            y = [self.__read_category()[item[0]] for item in data]\n",
    "            x = [list(jb.cut(item[1])) for item in data]\n",
    "            dataset[label] = (x, np.array(y, dtype=int))\n",
    "        return dataset\n",
    "\n",
    "    def __build_vocab(self, sentences):\n",
    "        vocab_size = 0\n",
    "        word_index = {}\n",
    "        all_words = set([word for item in sentences for word in item])\n",
    "        word_index[\"<PAD>\"] = 0\n",
    "        word_index[\"<UNK>\"] = 1\n",
    "\n",
    "        for index, word in enumerate(all_words):\n",
    "            word_index[word] = index + 2\n",
    "        vocab_size = len(word_index)\n",
    "\n",
    "        return vocab_size, word_index\n",
    "\n",
    "    def __get_max_len(self, sentences):\n",
    "        return max([len(sentence) for sentence in sentences])\n",
    "\n",
    "    def __word2index(self, sentences):\n",
    "        results = []\n",
    "        for sentence in sentences:\n",
    "            sentence_id = []\n",
    "            for word in sentence:\n",
    "                if word in self.word_index.keys():\n",
    "                    sentence_id.append(self.word_index[word])\n",
    "                else:\n",
    "                    sentence_id.append(self.word_index[\"<UNK>\"])\n",
    "            results.append(sentence_id)\n",
    "        return results\n",
    "\n",
    "    def __padding_sentence(self, sentences):\n",
    "        padding_result = tf.keras.preprocessing.sequence.pad_sequences(\n",
    "            sentences,\n",
    "            maxlen=self.seq_max_len,\n",
    "            truncating='post',\n",
    "            padding='post',\n",
    "            value=self.word_index['<PAD>'])\n",
    "        return padding_result\n",
    "\n",
    "    def load_data(self):\n",
    "        print(\"INFO:Read data from file.\")\n",
    "        x_train, y_train = self.__read_data()['train']\n",
    "        x_develop, y_develop = self.__read_data()['develop']\n",
    "        x_test, y_test = self.__read_data()['test']\n",
    "\n",
    "        print(\"INFO:Building vocabulary from train set.\")\n",
    "        self.vocab_size, self.word_index = self.__build_vocab(x_train)\n",
    "\n",
    "        print(\"INFO:Compute the maximum length of sentence.\")\n",
    "        self.seq_max_len = self.__get_max_len(x_train)\n",
    "\n",
    "        print(\"INFO:Convert words to id represent.\")\n",
    "        x_train_id = self.__word2index(x_train)\n",
    "        x_develop_id = self.__word2index(x_develop)\n",
    "        x_test_id = self.__word2index(x_test)\n",
    "        x_len_train = np.array(\n",
    "            [min(len(x), self.seq_max_len) for x in x_train_id])\n",
    "        x_len_develop = np.array(\n",
    "            [min(len(x), self.seq_max_len) for x in x_develop_id])\n",
    "        x_len_test = np.array(\n",
    "            [min(len(x), self.seq_max_len) for x in x_test_id])\n",
    "\n",
    "        print(\"INFO:Padding sentences.\")\n",
    "        x_train_pad = self.__padding_sentence(x_train_id)\n",
    "        x_develop_pad = self.__padding_sentence(x_develop_id)\n",
    "        x_test_pad = self.__padding_sentence(x_test_id)\n",
    "\n",
    "        print(\"INFO:Maximum  length of sentence is {}.\".format(\n",
    "            self.seq_max_len))\n",
    "        print(\"INFO:Vocabulary size is {}.\".format(self.vocab_size))\n",
    "        print(\"INFO:train set shape is {}.\".format(x_train_pad.shape))\n",
    "        print(\"INFO:develop set shape is {}.\".format(x_develop_pad.shape))\n",
    "        print(\"INFO:test set shape is {}.\".format(x_test_pad.shape))\n",
    "\n",
    "        return (x_train_pad, x_len_train,\n",
    "                y_train), (x_develop_pad, x_len_develop,\n",
    "                           y_develop), (x_test_pad, x_len_test, y_test)\n",
    "\n",
    "\n",
    "filenames = [train_file, develop_file, test_file]\n",
    "(x_train, x_len_train,\n",
    " y_train), (x_develop, x_len_develop,\n",
    "            y_develop), (x_test, x_len_test, y_test) = SMPDATASET(\n",
    "                filenames, category_file).load_data()"
   ]
  },
  {
   "cell_type": "markdown",
   "metadata": {
    "heading_collapsed": true
   },
   "source": [
    "### Parameters"
   ]
  },
  {
   "cell_type": "code",
   "execution_count": 3,
   "metadata": {
    "ExecuteTime": {
     "end_time": "2019-01-16T08:47:16.642059Z",
     "start_time": "2019-01-16T08:47:16.638621Z"
    },
    "hidden": true
   },
   "outputs": [],
   "source": [
    "params = {\n",
    "    'embedding_initializer': tf.random_uniform_initializer(-1.0, 1.0),\n",
    "    'hidden_size': 128,\n",
    "    'num_classes': 31,\n",
    "    'embedding_size': 128,\n",
    "    'vocab_size': 2889,\n",
    "    'batch_size': 32,\n",
    "    'learning_rate': 0.001\n",
    "}"
   ]
  },
  {
   "cell_type": "code",
   "execution_count": 4,
   "metadata": {
    "ExecuteTime": {
     "end_time": "2019-01-16T08:47:16.730093Z",
     "start_time": "2019-01-16T08:47:16.644852Z"
    },
    "hidden": true
   },
   "outputs": [],
   "source": [
    "def parser(x, length, y):\n",
    "    features = {\"x\": x, \"len\": length}\n",
    "    return features, y\n",
    "\n",
    "\n",
    "def train_input_fn():\n",
    "    dataset = tf.data.Dataset.from_tensor_slices((x_train, x_len_train,\n",
    "                                                  y_train))\n",
    "    dataset = dataset.shuffle(buffer_size=len(x_train))\n",
    "    dataset = dataset.batch(params['batch_size'])\n",
    "    dataset = dataset.map(parser)\n",
    "    dataset = dataset.repeat()\n",
    "    dataset = dataset.prefetch(buffer_size=1)\n",
    "    iterator = dataset.make_one_shot_iterator()\n",
    "    return iterator.get_next()\n",
    "\n",
    "\n",
    "def eval_input_fn():\n",
    "    dataset = tf.data.Dataset.from_tensor_slices((x_develop, x_len_develop,\n",
    "                                                  y_develop))\n",
    "    dataset = dataset.batch(len(x_develop))\n",
    "    dataset = dataset.map(parser)\n",
    "    iterator = dataset.make_one_shot_iterator()\n",
    "    return iterator.get_next()\n",
    "\n",
    "\n",
    "def test_input_fn():\n",
    "    dataset = tf.data.Dataset.from_tensor_slices((x_test, x_len_test, y_test))\n",
    "    dataset = dataset.batch(len(x_test))\n",
    "    dataset = dataset.map(parser)\n",
    "    iterator = dataset.make_one_shot_iterator()\n",
    "    return iterator.get_next()"
   ]
  },
  {
   "cell_type": "markdown",
   "metadata": {},
   "source": [
    "### Model"
   ]
  },
  {
   "cell_type": "code",
   "execution_count": 5,
   "metadata": {
    "ExecuteTime": {
     "end_time": "2019-01-16T08:47:16.817348Z",
     "start_time": "2019-01-16T08:47:16.731718Z"
    }
   },
   "outputs": [
    {
     "name": "stdout",
     "output_type": "stream",
     "text": [
      "INFO:tensorflow:Using config: {'_model_dir': '/home/zhangzw/logs/SMP2018/GRU', '_tf_random_seed': None, '_save_summary_steps': 100, '_save_checkpoints_steps': None, '_save_checkpoints_secs': 600, '_session_config': gpu_options {\n",
      "  allow_growth: true\n",
      "}\n",
      "log_device_placement: true\n",
      ", '_keep_checkpoint_max': 5, '_keep_checkpoint_every_n_hours': 10000, '_log_step_count_steps': 100, '_train_distribute': None, '_device_fn': None, '_protocol': None, '_eval_distribute': None, '_experimental_distribute': None, '_service': None, '_cluster_spec': <tensorflow.python.training.server_lib.ClusterSpec object at 0x7f46c0213208>, '_task_type': 'worker', '_task_id': 0, '_global_id_in_cluster': 0, '_master': '', '_evaluation_master': '', '_is_chief': True, '_num_ps_replicas': 0, '_num_worker_replicas': 1}\n"
     ]
    }
   ],
   "source": [
    "def model_fn(features, labels, mode, params):\n",
    "    input_layer = tf.contrib.layers.embed_sequence(\n",
    "        features['x'],\n",
    "        params['vocab_size'],\n",
    "        params['embedding_size'],\n",
    "        initializer=params['embedding_initializer'])\n",
    "\n",
    "    training = mode == tf.estimator.ModeKeys.TRAIN\n",
    "\n",
    "    gru_cell = tf.nn.rnn_cell.GRUCell(num_units=params['hidden_size'])\n",
    "    _, final_states = tf.nn.dynamic_rnn(\n",
    "        cell=gru_cell,\n",
    "        inputs=input_layer,\n",
    "        sequence_length=features['len'],\n",
    "        dtype=tf.float32)\n",
    "    \n",
    "    dropout_hidden = tf.layers.dropout(\n",
    "        inputs=final_states, rate=0.5, training=training, name='Dropout')\n",
    "\n",
    "    logits = tf.layers.dense(\n",
    "        inputs=dropout_hidden, units=params['num_classes'], name='Fc')\n",
    "\n",
    "    predicted_labels = tf.argmax(logits, 1)\n",
    "    if mode == tf.estimator.ModeKeys.PREDICT:\n",
    "        predictions = {'pre_labels': predicted_labels[:, tf.newaxis]}\n",
    "        return tf.estimator.EstimatorSpec(mode, predictions=predictions)\n",
    "\n",
    "    loss = tf.losses.sparse_softmax_cross_entropy(labels=labels, logits=logits)\n",
    "\n",
    "    accuracy = tf.metrics.accuracy(\n",
    "        labels=labels, predictions=predicted_labels, name='acc_op')\n",
    "    metrics = {'accuracy': accuracy}\n",
    "    tf.summary.scalar('accuracy', accuracy[1])\n",
    "    if mode == tf.estimator.ModeKeys.EVAL:\n",
    "        return tf.estimator.EstimatorSpec(\n",
    "            mode, loss=loss, eval_metric_ops=metrics)\n",
    "\n",
    "    if mode == tf.estimator.ModeKeys.TRAIN:\n",
    "        optimizer = tf.train.AdamOptimizer(\n",
    "            learning_rate=params['learning_rate'], name='Adam')\n",
    "        train_op = optimizer.minimize(\n",
    "            loss, global_step=tf.train.get_global_step())\n",
    "        return tf.estimator.EstimatorSpec(mode, loss=loss, train_op=train_op)\n",
    "\n",
    "\n",
    "model = tf.estimator.Estimator(\n",
    "    model_fn=model_fn, config=estimator_config, params=params)"
   ]
  },
  {
   "cell_type": "markdown",
   "metadata": {},
   "source": [
    "### Training"
   ]
  },
  {
   "cell_type": "code",
   "execution_count": 6,
   "metadata": {
    "ExecuteTime": {
     "end_time": "2019-01-16T08:48:11.921144Z",
     "start_time": "2019-01-16T08:47:16.819097Z"
    },
    "scrolled": false
   },
   "outputs": [
    {
     "name": "stdout",
     "output_type": "stream",
     "text": [
      "INFO:tensorflow:Calling model_fn.\n",
      "INFO:tensorflow:Done calling model_fn.\n",
      "INFO:tensorflow:Create CheckpointSaverHook.\n",
      "INFO:tensorflow:Graph was finalized.\n",
      "INFO:tensorflow:Running local_init_op.\n",
      "INFO:tensorflow:Done running local_init_op.\n",
      "INFO:tensorflow:Saving checkpoints for 0 into /home/zhangzw/logs/SMP2018/GRU/model.ckpt.\n",
      "INFO:tensorflow:loss = 3.5533721, step = 0\n",
      "INFO:tensorflow:global_step/sec: 54.5321\n",
      "INFO:tensorflow:loss = 1.7051215, step = 100 (1.837 sec)\n",
      "INFO:tensorflow:global_step/sec: 64.403\n",
      "INFO:tensorflow:loss = 0.8866103, step = 200 (1.552 sec)\n",
      "INFO:tensorflow:global_step/sec: 62.6689\n",
      "INFO:tensorflow:loss = 0.61656535, step = 300 (1.596 sec)\n",
      "INFO:tensorflow:global_step/sec: 63.5889\n",
      "INFO:tensorflow:loss = 0.62780964, step = 400 (1.575 sec)\n",
      "INFO:tensorflow:global_step/sec: 63.2747\n",
      "INFO:tensorflow:loss = 0.45444524, step = 500 (1.578 sec)\n",
      "INFO:tensorflow:global_step/sec: 63.7059\n",
      "INFO:tensorflow:loss = 0.31704187, step = 600 (1.571 sec)\n",
      "INFO:tensorflow:global_step/sec: 62.7359\n",
      "INFO:tensorflow:loss = 0.038040053, step = 700 (1.595 sec)\n",
      "INFO:tensorflow:global_step/sec: 63.357\n",
      "INFO:tensorflow:loss = 0.11684246, step = 800 (1.577 sec)\n",
      "INFO:tensorflow:global_step/sec: 63.3289\n",
      "INFO:tensorflow:loss = 0.04938944, step = 900 (1.578 sec)\n",
      "INFO:tensorflow:global_step/sec: 63.8777\n",
      "INFO:tensorflow:loss = 0.08872375, step = 1000 (1.566 sec)\n",
      "INFO:tensorflow:global_step/sec: 63.5697\n",
      "INFO:tensorflow:loss = 0.10574353, step = 1100 (1.574 sec)\n",
      "INFO:tensorflow:global_step/sec: 62.1438\n",
      "INFO:tensorflow:loss = 0.01054443, step = 1200 (1.610 sec)\n",
      "INFO:tensorflow:global_step/sec: 63.93\n",
      "INFO:tensorflow:loss = 0.0137389125, step = 1300 (1.562 sec)\n",
      "INFO:tensorflow:global_step/sec: 62.3103\n",
      "INFO:tensorflow:loss = 0.012945948, step = 1400 (1.605 sec)\n",
      "INFO:tensorflow:global_step/sec: 62.1668\n",
      "INFO:tensorflow:loss = 0.028650247, step = 1500 (1.608 sec)\n",
      "INFO:tensorflow:global_step/sec: 62.9846\n",
      "INFO:tensorflow:loss = 0.011379568, step = 1600 (1.588 sec)\n",
      "INFO:tensorflow:global_step/sec: 62.4204\n",
      "INFO:tensorflow:loss = 0.0057151336, step = 1700 (1.602 sec)\n",
      "INFO:tensorflow:global_step/sec: 62.188\n",
      "INFO:tensorflow:loss = 0.012932446, step = 1800 (1.609 sec)\n",
      "INFO:tensorflow:global_step/sec: 63.6758\n",
      "INFO:tensorflow:loss = 0.0050535128, step = 1900 (1.571 sec)\n",
      "INFO:tensorflow:global_step/sec: 63.3582\n",
      "INFO:tensorflow:loss = 0.0058436226, step = 2000 (1.577 sec)\n",
      "INFO:tensorflow:global_step/sec: 63.3216\n",
      "INFO:tensorflow:loss = 0.0064853644, step = 2100 (1.580 sec)\n",
      "INFO:tensorflow:global_step/sec: 64.6937\n",
      "INFO:tensorflow:loss = 0.005442338, step = 2200 (1.545 sec)\n",
      "INFO:tensorflow:global_step/sec: 63.0251\n",
      "INFO:tensorflow:loss = 0.002327149, step = 2300 (1.587 sec)\n",
      "INFO:tensorflow:global_step/sec: 62.1379\n",
      "INFO:tensorflow:loss = 0.0025068582, step = 2400 (1.609 sec)\n",
      "INFO:tensorflow:global_step/sec: 63.127\n",
      "INFO:tensorflow:loss = 0.0021267221, step = 2500 (1.584 sec)\n",
      "INFO:tensorflow:global_step/sec: 62.1589\n",
      "INFO:tensorflow:loss = 0.0058127083, step = 2600 (1.609 sec)\n",
      "INFO:tensorflow:global_step/sec: 62.5995\n",
      "INFO:tensorflow:loss = 0.0018568522, step = 2700 (1.598 sec)\n",
      "INFO:tensorflow:global_step/sec: 64.2464\n",
      "INFO:tensorflow:loss = 0.0036720706, step = 2800 (1.556 sec)\n",
      "INFO:tensorflow:global_step/sec: 64.1501\n",
      "INFO:tensorflow:loss = 0.0031691885, step = 2900 (1.559 sec)\n",
      "INFO:tensorflow:Saving checkpoints for 3000 into /home/zhangzw/logs/SMP2018/GRU/model.ckpt.\n",
      "INFO:tensorflow:Loss for final step: 0.016001236.\n"
     ]
    },
    {
     "data": {
      "text/plain": [
       "<tensorflow.python.estimator.estimator.Estimator at 0x7f4636e63438>"
      ]
     },
     "execution_count": 6,
     "metadata": {},
     "output_type": "execute_result"
    }
   ],
   "source": [
    "model.train(input_fn=train_input_fn, steps=3000)"
   ]
  },
  {
   "cell_type": "markdown",
   "metadata": {},
   "source": [
    "### Evaluate"
   ]
  },
  {
   "cell_type": "code",
   "execution_count": 7,
   "metadata": {
    "ExecuteTime": {
     "end_time": "2019-01-16T08:48:12.547531Z",
     "start_time": "2019-01-16T08:48:11.924111Z"
    },
    "scrolled": false
   },
   "outputs": [
    {
     "name": "stdout",
     "output_type": "stream",
     "text": [
      "INFO:tensorflow:Calling model_fn.\n",
      "INFO:tensorflow:Done calling model_fn.\n",
      "INFO:tensorflow:Starting evaluation at 2019-01-16-08:48:12\n",
      "INFO:tensorflow:Graph was finalized.\n",
      "INFO:tensorflow:Restoring parameters from /home/zhangzw/logs/SMP2018/GRU/model.ckpt-3000\n",
      "INFO:tensorflow:Running local_init_op.\n",
      "INFO:tensorflow:Done running local_init_op.\n",
      "INFO:tensorflow:Finished evaluation at 2019-01-16-08:48:12\n",
      "INFO:tensorflow:Saving dict for global step 3000: accuracy = 0.812987, global_step = 3000, loss = 0.8557273\n",
      "INFO:tensorflow:Saving 'checkpoint_path' summary for global step 3000: /home/zhangzw/logs/SMP2018/GRU/model.ckpt-3000\n"
     ]
    },
    {
     "data": {
      "text/plain": [
       "{'accuracy': 0.812987, 'loss': 0.8557273, 'global_step': 3000}"
      ]
     },
     "execution_count": 7,
     "metadata": {},
     "output_type": "execute_result"
    }
   ],
   "source": [
    "model.evaluate(input_fn=eval_input_fn)"
   ]
  },
  {
   "cell_type": "markdown",
   "metadata": {},
   "source": [
    "### Predict"
   ]
  },
  {
   "cell_type": "code",
   "execution_count": 8,
   "metadata": {
    "ExecuteTime": {
     "end_time": "2019-01-16T08:48:12.551680Z",
     "start_time": "2019-01-16T08:48:12.549340Z"
    },
    "scrolled": false
   },
   "outputs": [],
   "source": [
    "# pre_results = np.array([\n",
    "#     pre_label['pre_labels'][0]\n",
    "#     for pre_label in model.predict(input_fn=test_input_fn)\n",
    "# ])\n",
    "# print(\"\\nClassification Report:\\n\",\n",
    "#       metrics.classification_report(y_test, pre_results))"
   ]
  }
 ],
 "metadata": {
  "kernelspec": {
   "display_name": "ZhenWen-Py3",
   "language": "python",
   "name": "zhenwen_py3"
  },
  "language_info": {
   "codemirror_mode": {
    "name": "ipython",
    "version": 3
   },
   "file_extension": ".py",
   "mimetype": "text/x-python",
   "name": "python",
   "nbconvert_exporter": "python",
   "pygments_lexer": "ipython3",
   "version": "3.6.7"
  },
  "toc": {
   "base_numbering": 1,
   "nav_menu": {},
   "number_sections": true,
   "sideBar": true,
   "skip_h1_title": false,
   "title_cell": "Table of Contents",
   "title_sidebar": "Contents",
   "toc_cell": false,
   "toc_position": {},
   "toc_section_display": true,
   "toc_window_display": false
  },
  "varInspector": {
   "cols": {
    "lenName": 16,
    "lenType": 16,
    "lenVar": 40
   },
   "kernels_config": {
    "python": {
     "delete_cmd_postfix": "",
     "delete_cmd_prefix": "del ",
     "library": "var_list.py",
     "varRefreshCmd": "print(var_dic_list())"
    },
    "r": {
     "delete_cmd_postfix": ") ",
     "delete_cmd_prefix": "rm(",
     "library": "var_list.r",
     "varRefreshCmd": "cat(var_dic_list()) "
    }
   },
   "types_to_exclude": [
    "module",
    "function",
    "builtin_function_or_method",
    "instance",
    "_Feature"
   ],
   "window_display": false
  }
 },
 "nbformat": 4,
 "nbformat_minor": 2
}
