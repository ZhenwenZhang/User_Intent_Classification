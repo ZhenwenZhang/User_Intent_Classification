{
 "cells": [
  {
   "cell_type": "markdown",
   "metadata": {
    "heading_collapsed": true
   },
   "source": [
    "### Import Packages"
   ]
  },
  {
   "cell_type": "code",
   "execution_count": 1,
   "metadata": {
    "ExecuteTime": {
     "end_time": "2019-01-17T09:12:02.448785Z",
     "start_time": "2019-01-17T09:12:00.928245Z"
    },
    "hidden": true
   },
   "outputs": [],
   "source": [
    "import os\n",
    "import jieba as jb\n",
    "import numpy as np\n",
    "import tensorflow as tf\n",
    "from sklearn import metrics\n",
    "from modules.indRNN import IndRNNCell\n",
    "from tensorboard import summary as summary_lib\n",
    "\n",
    "os.environ['CUDA_VISIBLE_DEVICES'] = '3'\n",
    "tf.logging.set_verbosity(tf.logging.INFO)\n",
    "\n",
    "gpuconfig = tf.ConfigProto(log_device_placement=True)\n",
    "gpuconfig.gpu_options.allow_growth = True\n",
    "\n",
    "estimator_config = tf.estimator.RunConfig(\n",
    "    model_dir='/home/zhangzw/logs/SMP2018/IndRNN',\n",
    "    save_summary_steps=100,\n",
    "    session_config=gpuconfig)\n",
    "\n",
    "base_dir = '/home/zhangzw/SMP2018-ECDT/'\n",
    "category_file = os.path.join(base_dir, 'data/category.txt')\n",
    "train_file = os.path.join(base_dir, 'data/train.txt')\n",
    "develop_file = os.path.join(base_dir, 'data/develop.txt')\n",
    "test_file = os.path.join(base_dir, 'data/test.txt')"
   ]
  },
  {
   "cell_type": "markdown",
   "metadata": {
    "heading_collapsed": true
   },
   "source": [
    "### Read DataSet"
   ]
  },
  {
   "cell_type": "code",
   "execution_count": 2,
   "metadata": {
    "ExecuteTime": {
     "end_time": "2019-01-17T09:12:04.319232Z",
     "start_time": "2019-01-17T09:12:02.451711Z"
    },
    "hidden": true
   },
   "outputs": [
    {
     "name": "stderr",
     "output_type": "stream",
     "text": [
      "Building prefix dict from the default dictionary ...\n",
      "Loading model from cache /tmp/jieba.cache\n"
     ]
    },
    {
     "name": "stdout",
     "output_type": "stream",
     "text": [
      "INFO:Read data from file.\n"
     ]
    },
    {
     "name": "stderr",
     "output_type": "stream",
     "text": [
      "Loading model cost 0.687 seconds.\n",
      "Prefix dict has been built succesfully.\n"
     ]
    },
    {
     "name": "stdout",
     "output_type": "stream",
     "text": [
      "INFO:Building vocabulary from train set.\n",
      "INFO:Compute the maximum length of sentence.\n",
      "INFO:Convert words to id represent.\n",
      "INFO:Padding sentences.\n",
      "INFO:Maximum  length of sentence is 26.\n",
      "INFO:Vocabulary size is 2889.\n",
      "INFO:train set shape is (2299, 26).\n",
      "INFO:develop set shape is (770, 26).\n",
      "INFO:test set shape is (666, 26).\n"
     ]
    }
   ],
   "source": [
    "class SMPDATASET(object):\n",
    "    def __init__(self, filenames, category_file):\n",
    "        self.__filenames = filenames\n",
    "        self.__category_file = category_file\n",
    "        self.vocab_size = 0\n",
    "        self.seq_max_len = 0\n",
    "        self.word_index = {}\n",
    "\n",
    "    def __read_category(self):\n",
    "        category_table = {}\n",
    "        for line in open(self.__category_file).readlines():\n",
    "            category = line.strip().split(':')[0]\n",
    "            label = line.strip().split(':')[1]\n",
    "            category_table[category] = label\n",
    "        return category_table\n",
    "\n",
    "    def __read_data(self):\n",
    "        dataset = {}\n",
    "        labels = ['train', 'develop', 'test']\n",
    "        for filename, label in zip(self.__filenames, labels):\n",
    "            data = [\n",
    "                line.strip().split(\"\\t\")\n",
    "                for line in open(filename).readlines()\n",
    "            ]\n",
    "            y = [self.__read_category()[item[0]] for item in data]\n",
    "            x = [list(jb.cut(item[1])) for item in data]\n",
    "            dataset[label] = (x, np.array(y, dtype=int))\n",
    "        return dataset\n",
    "\n",
    "    def __build_vocab(self, sentences):\n",
    "        vocab_size = 0\n",
    "        word_index = {}\n",
    "        all_words = set([word for item in sentences for word in item])\n",
    "        word_index[\"<PAD>\"] = 0\n",
    "        word_index[\"<UNK>\"] = 1\n",
    "\n",
    "        for index, word in enumerate(all_words):\n",
    "            word_index[word] = index + 2\n",
    "        vocab_size = len(word_index)\n",
    "\n",
    "        return vocab_size, word_index\n",
    "\n",
    "    def __get_max_len(self, sentences):\n",
    "        return max([len(sentence) for sentence in sentences])\n",
    "\n",
    "    def __word2index(self, sentences):\n",
    "        results = []\n",
    "        for sentence in sentences:\n",
    "            sentence_id = []\n",
    "            for word in sentence:\n",
    "                if word in self.word_index.keys():\n",
    "                    sentence_id.append(self.word_index[word])\n",
    "                else:\n",
    "                    sentence_id.append(self.word_index[\"<UNK>\"])\n",
    "            results.append(sentence_id)\n",
    "        return results\n",
    "\n",
    "    def __padding_sentence(self, sentences):\n",
    "        padding_result = tf.keras.preprocessing.sequence.pad_sequences(\n",
    "            sentences,\n",
    "            maxlen=self.seq_max_len,\n",
    "            truncating='post',\n",
    "            padding='post',\n",
    "            value=self.word_index['<PAD>'])\n",
    "        return padding_result\n",
    "\n",
    "    def load_data(self):\n",
    "        print(\"INFO:Read data from file.\")\n",
    "        x_train, y_train = self.__read_data()['train']\n",
    "        x_develop, y_develop = self.__read_data()['develop']\n",
    "        x_test, y_test = self.__read_data()['test']\n",
    "\n",
    "        print(\"INFO:Building vocabulary from train set.\")\n",
    "        self.vocab_size, self.word_index = self.__build_vocab(x_train)\n",
    "\n",
    "        print(\"INFO:Compute the maximum length of sentence.\")\n",
    "        self.seq_max_len = self.__get_max_len(x_train)\n",
    "\n",
    "        print(\"INFO:Convert words to id represent.\")\n",
    "        x_train_id = self.__word2index(x_train)\n",
    "        x_develop_id = self.__word2index(x_develop)\n",
    "        x_test_id = self.__word2index(x_test)\n",
    "        x_len_train = np.array(\n",
    "            [min(len(x), self.seq_max_len) for x in x_train_id])\n",
    "        x_len_develop = np.array(\n",
    "            [min(len(x), self.seq_max_len) for x in x_develop_id])\n",
    "        x_len_test = np.array(\n",
    "            [min(len(x), self.seq_max_len) for x in x_test_id])\n",
    "\n",
    "        print(\"INFO:Padding sentences.\")\n",
    "        x_train_pad = self.__padding_sentence(x_train_id)\n",
    "        x_develop_pad = self.__padding_sentence(x_develop_id)\n",
    "        x_test_pad = self.__padding_sentence(x_test_id)\n",
    "\n",
    "        print(\"INFO:Maximum  length of sentence is {}.\".format(\n",
    "            self.seq_max_len))\n",
    "        print(\"INFO:Vocabulary size is {}.\".format(self.vocab_size))\n",
    "        print(\"INFO:train set shape is {}.\".format(x_train_pad.shape))\n",
    "        print(\"INFO:develop set shape is {}.\".format(x_develop_pad.shape))\n",
    "        print(\"INFO:test set shape is {}.\".format(x_test_pad.shape))\n",
    "\n",
    "        return (x_train_pad, x_len_train,\n",
    "                y_train), (x_develop_pad, x_len_develop,\n",
    "                           y_develop), (x_test_pad, x_len_test, y_test)\n",
    "\n",
    "\n",
    "filenames = [train_file, develop_file, test_file]\n",
    "(x_train, x_len_train,\n",
    " y_train), (x_develop, x_len_develop,\n",
    "            y_develop), (x_test, x_len_test, y_test) = SMPDATASET(\n",
    "                filenames, category_file).load_data()"
   ]
  },
  {
   "cell_type": "markdown",
   "metadata": {
    "heading_collapsed": true
   },
   "source": [
    "### Parameters"
   ]
  },
  {
   "cell_type": "code",
   "execution_count": 3,
   "metadata": {
    "ExecuteTime": {
     "end_time": "2019-01-17T09:12:04.326337Z",
     "start_time": "2019-01-17T09:12:04.323086Z"
    },
    "hidden": true
   },
   "outputs": [],
   "source": [
    "params = {\n",
    "    'embedding_initializer': tf.random_uniform_initializer(-1.0, 1.0),\n",
    "    'hidden_size': 128,\n",
    "    'num_classes': 31,\n",
    "    'embedding_size': 128,\n",
    "    'vocab_size': 2889,\n",
    "    'batch_size': 32,\n",
    "    'learning_rate': 0.001\n",
    "}"
   ]
  },
  {
   "cell_type": "code",
   "execution_count": 4,
   "metadata": {
    "ExecuteTime": {
     "end_time": "2019-01-17T09:12:04.412903Z",
     "start_time": "2019-01-17T09:12:04.328994Z"
    },
    "hidden": true
   },
   "outputs": [],
   "source": [
    "def parser(x, length, y):\n",
    "    features = {\"x\": x, \"len\": length}\n",
    "    return features, y\n",
    "\n",
    "\n",
    "def train_input_fn():\n",
    "    dataset = tf.data.Dataset.from_tensor_slices((x_train, x_len_train,\n",
    "                                                  y_train))\n",
    "    dataset = dataset.shuffle(buffer_size=len(x_train))\n",
    "    dataset = dataset.batch(params['batch_size'])\n",
    "    dataset = dataset.map(parser)\n",
    "    dataset = dataset.repeat()\n",
    "    dataset = dataset.prefetch(buffer_size=1)\n",
    "    iterator = dataset.make_one_shot_iterator()\n",
    "    return iterator.get_next()\n",
    "\n",
    "\n",
    "def eval_input_fn():\n",
    "    dataset = tf.data.Dataset.from_tensor_slices((x_develop, x_len_develop,\n",
    "                                                  y_develop))\n",
    "    dataset = dataset.batch(len(x_develop))\n",
    "    dataset = dataset.map(parser)\n",
    "    iterator = dataset.make_one_shot_iterator()\n",
    "    return iterator.get_next()\n",
    "\n",
    "\n",
    "def test_input_fn():\n",
    "    dataset = tf.data.Dataset.from_tensor_slices((x_test, x_len_test, y_test))\n",
    "    dataset = dataset.batch(len(x_test))\n",
    "    dataset = dataset.map(parser)\n",
    "    iterator = dataset.make_one_shot_iterator()\n",
    "    return iterator.get_next()"
   ]
  },
  {
   "cell_type": "markdown",
   "metadata": {},
   "source": [
    "### Model"
   ]
  },
  {
   "cell_type": "code",
   "execution_count": 15,
   "metadata": {
    "ExecuteTime": {
     "end_time": "2019-01-17T09:19:05.913965Z",
     "start_time": "2019-01-17T09:19:05.883790Z"
    }
   },
   "outputs": [
    {
     "name": "stdout",
     "output_type": "stream",
     "text": [
      "INFO:tensorflow:Using config: {'_model_dir': '/home/zhangzw/logs/SMP2018/IndRNN', '_tf_random_seed': None, '_save_summary_steps': 100, '_save_checkpoints_steps': None, '_save_checkpoints_secs': 600, '_session_config': gpu_options {\n",
      "  allow_growth: true\n",
      "}\n",
      "log_device_placement: true\n",
      ", '_keep_checkpoint_max': 5, '_keep_checkpoint_every_n_hours': 10000, '_log_step_count_steps': 100, '_train_distribute': None, '_device_fn': None, '_protocol': None, '_eval_distribute': None, '_experimental_distribute': None, '_service': None, '_cluster_spec': <tensorflow.python.training.server_lib.ClusterSpec object at 0x7fade031c400>, '_task_type': 'worker', '_task_id': 0, '_global_id_in_cluster': 0, '_master': '', '_evaluation_master': '', '_is_chief': True, '_num_ps_replicas': 0, '_num_worker_replicas': 1}\n"
     ]
    }
   ],
   "source": [
    "def model_fn(features, labels, mode, params):\n",
    "    input_layer = tf.contrib.layers.embed_sequence(\n",
    "        features['x'],\n",
    "        params['vocab_size'],\n",
    "        params['embedding_size'],\n",
    "        initializer=params['embedding_initializer'])\n",
    "\n",
    "    training = mode == tf.estimator.ModeKeys.TRAIN\n",
    "\n",
    "    indRNN_cell = IndRNNCell(num_units=params['hidden_size'])\n",
    "    print(indRNN_cell)\n",
    "    _, final_states = tf.nn.dynamic_rnn(\n",
    "        cell=indRNN_cell,\n",
    "        inputs=input_layer,\n",
    "        sequence_length=features['len'],\n",
    "        dtype=tf.float32)\n",
    "\n",
    "    dropout_hidden = tf.layers.dropout(\n",
    "        inputs=final_states, rate=0.5, training=training, name='Dropout')\n",
    "\n",
    "    logits = tf.layers.dense(\n",
    "        inputs=dropout_hidden, units=params['num_classes'], name='Fc')\n",
    "\n",
    "    predicted_labels = tf.argmax(logits, 1)\n",
    "    if mode == tf.estimator.ModeKeys.PREDICT:\n",
    "        predictions = {'pre_labels': predicted_labels[:, tf.newaxis]}\n",
    "        return tf.estimator.EstimatorSpec(mode, predictions=predictions)\n",
    "\n",
    "    loss = tf.losses.sparse_softmax_cross_entropy(labels=labels, logits=logits)\n",
    "\n",
    "    accuracy = tf.metrics.accuracy(\n",
    "        labels=labels, predictions=predicted_labels, name='acc_op')\n",
    "    metrics = {'accuracy': accuracy}\n",
    "    tf.summary.scalar('accuracy', accuracy[1])\n",
    "    if mode == tf.estimator.ModeKeys.EVAL:\n",
    "        return tf.estimator.EstimatorSpec(\n",
    "            mode, loss=loss, eval_metric_ops=metrics)\n",
    "\n",
    "    if mode == tf.estimator.ModeKeys.TRAIN:\n",
    "        optimizer = tf.train.AdamOptimizer(\n",
    "            learning_rate=params['learning_rate'], name='Adam')\n",
    "        train_op = optimizer.minimize(\n",
    "            loss, global_step=tf.train.get_global_step())\n",
    "        return tf.estimator.EstimatorSpec(mode, loss=loss, train_op=train_op)\n",
    "\n",
    "\n",
    "model = tf.estimator.Estimator(\n",
    "    model_fn=model_fn, config=estimator_config, params=params)"
   ]
  },
  {
   "cell_type": "markdown",
   "metadata": {},
   "source": [
    "### Training"
   ]
  },
  {
   "cell_type": "code",
   "execution_count": 16,
   "metadata": {
    "ExecuteTime": {
     "end_time": "2019-01-17T09:19:56.224288Z",
     "start_time": "2019-01-17T09:19:13.200972Z"
    },
    "scrolled": true
   },
   "outputs": [
    {
     "name": "stdout",
     "output_type": "stream",
     "text": [
      "INFO:tensorflow:Calling model_fn.\n",
      "<modules.indRNN.IndRNNCell object at 0x7fad480d2eb8>\n",
      "INFO:tensorflow:Done calling model_fn.\n",
      "INFO:tensorflow:Create CheckpointSaverHook.\n",
      "INFO:tensorflow:Graph was finalized.\n",
      "INFO:tensorflow:Restoring parameters from /home/zhangzw/logs/SMP2018/IndRNN/model.ckpt-3000\n",
      "INFO:tensorflow:Running local_init_op.\n",
      "INFO:tensorflow:Done running local_init_op.\n",
      "INFO:tensorflow:Saving checkpoints for 3000 into /home/zhangzw/logs/SMP2018/IndRNN/model.ckpt.\n",
      "INFO:tensorflow:loss = 0.010085892, step = 3000\n",
      "INFO:tensorflow:global_step/sec: 67.1818\n",
      "INFO:tensorflow:loss = 0.006686422, step = 3100 (1.490 sec)\n",
      "INFO:tensorflow:global_step/sec: 71.3889\n",
      "INFO:tensorflow:loss = 0.010551972, step = 3200 (1.401 sec)\n",
      "INFO:tensorflow:global_step/sec: 71.895\n",
      "INFO:tensorflow:loss = 0.0083746705, step = 3300 (1.392 sec)\n",
      "INFO:tensorflow:global_step/sec: 75.5856\n",
      "INFO:tensorflow:loss = 0.015393478, step = 3400 (1.322 sec)\n",
      "INFO:tensorflow:global_step/sec: 77.1502\n",
      "INFO:tensorflow:loss = 0.015813963, step = 3500 (1.296 sec)\n",
      "INFO:tensorflow:global_step/sec: 73.7922\n",
      "INFO:tensorflow:loss = 0.005195306, step = 3600 (1.355 sec)\n",
      "INFO:tensorflow:global_step/sec: 75.9967\n",
      "INFO:tensorflow:loss = 0.017836023, step = 3700 (1.316 sec)\n",
      "INFO:tensorflow:global_step/sec: 75.5324\n",
      "INFO:tensorflow:loss = 0.0014186471, step = 3800 (1.325 sec)\n",
      "INFO:tensorflow:global_step/sec: 75.3071\n",
      "INFO:tensorflow:loss = 0.024879755, step = 3900 (1.329 sec)\n",
      "INFO:tensorflow:global_step/sec: 79.2167\n",
      "INFO:tensorflow:loss = 0.006723772, step = 4000 (1.261 sec)\n",
      "INFO:tensorflow:global_step/sec: 69.1879\n",
      "INFO:tensorflow:loss = 0.004767941, step = 4100 (1.445 sec)\n",
      "INFO:tensorflow:global_step/sec: 71.5979\n",
      "INFO:tensorflow:loss = 0.0021261687, step = 4200 (1.397 sec)\n",
      "INFO:tensorflow:global_step/sec: 70.5946\n",
      "INFO:tensorflow:loss = 0.020399531, step = 4300 (1.416 sec)\n",
      "INFO:tensorflow:global_step/sec: 68.9198\n",
      "INFO:tensorflow:loss = 0.002221248, step = 4400 (1.452 sec)\n",
      "INFO:tensorflow:global_step/sec: 69.2087\n",
      "INFO:tensorflow:loss = 0.0025447435, step = 4500 (1.446 sec)\n",
      "INFO:tensorflow:global_step/sec: 70.3771\n",
      "INFO:tensorflow:loss = 0.034677085, step = 4600 (1.419 sec)\n",
      "INFO:tensorflow:global_step/sec: 69.7357\n",
      "INFO:tensorflow:loss = 0.0063382257, step = 4700 (1.435 sec)\n",
      "INFO:tensorflow:global_step/sec: 69.3904\n",
      "INFO:tensorflow:loss = 0.0031107946, step = 4800 (1.441 sec)\n",
      "INFO:tensorflow:global_step/sec: 68.2576\n",
      "INFO:tensorflow:loss = 0.001591954, step = 4900 (1.465 sec)\n",
      "INFO:tensorflow:global_step/sec: 71.3723\n",
      "INFO:tensorflow:loss = 0.02275067, step = 5000 (1.402 sec)\n",
      "INFO:tensorflow:global_step/sec: 72.9026\n",
      "INFO:tensorflow:loss = 0.002184357, step = 5100 (1.370 sec)\n",
      "INFO:tensorflow:global_step/sec: 73.8816\n",
      "INFO:tensorflow:loss = 0.0014152081, step = 5200 (1.354 sec)\n",
      "INFO:tensorflow:global_step/sec: 76.2669\n",
      "INFO:tensorflow:loss = 0.072342634, step = 5300 (1.311 sec)\n",
      "INFO:tensorflow:global_step/sec: 72.7891\n",
      "INFO:tensorflow:loss = 0.0070545026, step = 5400 (1.374 sec)\n",
      "INFO:tensorflow:global_step/sec: 77.4324\n",
      "INFO:tensorflow:loss = 0.004773877, step = 5500 (1.291 sec)\n",
      "INFO:tensorflow:global_step/sec: 73.9125\n",
      "INFO:tensorflow:loss = 0.002266967, step = 5600 (1.354 sec)\n",
      "INFO:tensorflow:global_step/sec: 72.0761\n",
      "INFO:tensorflow:loss = 0.0026132492, step = 5700 (1.386 sec)\n",
      "INFO:tensorflow:global_step/sec: 72.6537\n",
      "INFO:tensorflow:loss = 0.0010556243, step = 5800 (1.376 sec)\n",
      "INFO:tensorflow:global_step/sec: 74.687\n",
      "INFO:tensorflow:loss = 0.00020235844, step = 5900 (1.339 sec)\n",
      "INFO:tensorflow:Saving checkpoints for 6000 into /home/zhangzw/logs/SMP2018/IndRNN/model.ckpt.\n",
      "INFO:tensorflow:Loss for final step: 0.00013564138.\n"
     ]
    },
    {
     "data": {
      "text/plain": [
       "<tensorflow.python.estimator.estimator.Estimator at 0x7fad480d8470>"
      ]
     },
     "execution_count": 16,
     "metadata": {},
     "output_type": "execute_result"
    }
   ],
   "source": [
    "model.train(input_fn=train_input_fn, steps=3000)"
   ]
  },
  {
   "cell_type": "markdown",
   "metadata": {},
   "source": [
    "### Evaluate"
   ]
  },
  {
   "cell_type": "code",
   "execution_count": 17,
   "metadata": {
    "ExecuteTime": {
     "end_time": "2019-01-17T09:20:12.582675Z",
     "start_time": "2019-01-17T09:20:11.968584Z"
    },
    "scrolled": false
   },
   "outputs": [
    {
     "name": "stdout",
     "output_type": "stream",
     "text": [
      "INFO:tensorflow:Calling model_fn.\n",
      "<modules.indRNN.IndRNNCell object at 0x7fad3edf1940>\n",
      "INFO:tensorflow:Done calling model_fn.\n",
      "INFO:tensorflow:Starting evaluation at 2019-01-17-09:20:12\n",
      "INFO:tensorflow:Graph was finalized.\n",
      "INFO:tensorflow:Restoring parameters from /home/zhangzw/logs/SMP2018/IndRNN/model.ckpt-6000\n",
      "INFO:tensorflow:Running local_init_op.\n",
      "INFO:tensorflow:Done running local_init_op.\n",
      "INFO:tensorflow:Finished evaluation at 2019-01-17-09:20:12\n",
      "INFO:tensorflow:Saving dict for global step 6000: accuracy = 0.8090909, global_step = 6000, loss = 1.4051508\n",
      "INFO:tensorflow:Saving 'checkpoint_path' summary for global step 6000: /home/zhangzw/logs/SMP2018/IndRNN/model.ckpt-6000\n"
     ]
    },
    {
     "data": {
      "text/plain": [
       "{'accuracy': 0.8090909, 'loss': 1.4051508, 'global_step': 6000}"
      ]
     },
     "execution_count": 17,
     "metadata": {},
     "output_type": "execute_result"
    }
   ],
   "source": [
    "model.evaluate(input_fn=eval_input_fn)"
   ]
  },
  {
   "cell_type": "markdown",
   "metadata": {},
   "source": [
    "### Predict"
   ]
  },
  {
   "cell_type": "code",
   "execution_count": null,
   "metadata": {
    "ExecuteTime": {
     "end_time": "2019-01-17T09:12:08.467565Z",
     "start_time": "2019-01-17T09:12:01.307Z"
    },
    "scrolled": false
   },
   "outputs": [],
   "source": [
    "# pre_results = np.array([\n",
    "#     pre_label['pre_labels'][0]\n",
    "#     for pre_label in model.predict(input_fn=test_input_fn)\n",
    "# ])\n",
    "# print(\"\\nClassification Report:\\n\",\n",
    "#       metrics.classification_report(y_test, pre_results))"
   ]
  }
 ],
 "metadata": {
  "kernelspec": {
   "display_name": "ZhenWen-Py3",
   "language": "python",
   "name": "zhenwen_py3"
  },
  "language_info": {
   "codemirror_mode": {
    "name": "ipython",
    "version": 3
   },
   "file_extension": ".py",
   "mimetype": "text/x-python",
   "name": "python",
   "nbconvert_exporter": "python",
   "pygments_lexer": "ipython3",
   "version": "3.6.7"
  },
  "toc": {
   "base_numbering": 1,
   "nav_menu": {},
   "number_sections": true,
   "sideBar": true,
   "skip_h1_title": false,
   "title_cell": "Table of Contents",
   "title_sidebar": "Contents",
   "toc_cell": false,
   "toc_position": {},
   "toc_section_display": true,
   "toc_window_display": false
  },
  "varInspector": {
   "cols": {
    "lenName": 16,
    "lenType": 16,
    "lenVar": 40
   },
   "kernels_config": {
    "python": {
     "delete_cmd_postfix": "",
     "delete_cmd_prefix": "del ",
     "library": "var_list.py",
     "varRefreshCmd": "print(var_dic_list())"
    },
    "r": {
     "delete_cmd_postfix": ") ",
     "delete_cmd_prefix": "rm(",
     "library": "var_list.r",
     "varRefreshCmd": "cat(var_dic_list()) "
    }
   },
   "types_to_exclude": [
    "module",
    "function",
    "builtin_function_or_method",
    "instance",
    "_Feature"
   ],
   "window_display": false
  }
 },
 "nbformat": 4,
 "nbformat_minor": 2
}
